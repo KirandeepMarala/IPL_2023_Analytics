{
 "cells": [
  {
   "cell_type": "markdown",
   "id": "862a5ff2",
   "metadata": {},
   "source": [
    "**import necessary libraries**"
   ]
  },
  {
   "cell_type": "code",
   "execution_count": 1,
   "id": "042742d9",
   "metadata": {},
   "outputs": [],
   "source": [
    "import pandas as pd\n",
    "import random"
   ]
  },
  {
   "cell_type": "markdown",
   "id": "23b946bc",
   "metadata": {},
   "source": [
    "**Let's read all web scrapped files**"
   ]
  },
  {
   "cell_type": "code",
   "execution_count": 2,
   "id": "251f3229",
   "metadata": {},
   "outputs": [],
   "source": [
    "folder_path = '../web_scrapping_files/'\n",
    "\n",
    "df_match_info = pd.read_csv(folder_path + 'match_summary.csv')\n",
    "df_batting = pd.read_csv(folder_path + 'batting_summary.csv')\n",
    "df_bowling = pd.read_csv(folder_path + 'bowling_summary.csv')\n",
    "df_players = pd.read_csv(folder_path + 'players_data.csv')"
   ]
  },
  {
   "cell_type": "code",
   "execution_count": 3,
   "id": "3de43d0a",
   "metadata": {},
   "outputs": [
    {
     "data": {
      "text/html": [
       "<div>\n",
       "<style scoped>\n",
       "    .dataframe tbody tr th:only-of-type {\n",
       "        vertical-align: middle;\n",
       "    }\n",
       "\n",
       "    .dataframe tbody tr th {\n",
       "        vertical-align: top;\n",
       "    }\n",
       "\n",
       "    .dataframe thead th {\n",
       "        text-align: right;\n",
       "    }\n",
       "</style>\n",
       "<table border=\"1\" class=\"dataframe\">\n",
       "  <thead>\n",
       "    <tr style=\"text-align: right;\">\n",
       "      <th></th>\n",
       "      <th>team1</th>\n",
       "      <th>team2</th>\n",
       "      <th>winner</th>\n",
       "      <th>margin</th>\n",
       "      <th>matchDate</th>\n",
       "      <th>scorecard_link</th>\n",
       "    </tr>\n",
       "  </thead>\n",
       "  <tbody>\n",
       "    <tr>\n",
       "      <th>0</th>\n",
       "      <td>Super Kings</td>\n",
       "      <td>Titans</td>\n",
       "      <td>Titans</td>\n",
       "      <td>5 wickets</td>\n",
       "      <td>Mar 31, 2023</td>\n",
       "      <td>https://www.espncricinfo.com/series/indian-pre...</td>\n",
       "    </tr>\n",
       "    <tr>\n",
       "      <th>1</th>\n",
       "      <td>Punjab Kings</td>\n",
       "      <td>KKR</td>\n",
       "      <td>Punjab Kings</td>\n",
       "      <td>7 runs</td>\n",
       "      <td>Apr 1, 2023</td>\n",
       "      <td>https://www.espncricinfo.com/series/indian-pre...</td>\n",
       "    </tr>\n",
       "  </tbody>\n",
       "</table>\n",
       "</div>"
      ],
      "text/plain": [
       "          team1   team2        winner     margin     matchDate  \\\n",
       "0   Super Kings  Titans        Titans  5 wickets  Mar 31, 2023   \n",
       "1  Punjab Kings     KKR  Punjab Kings     7 runs   Apr 1, 2023   \n",
       "\n",
       "                                      scorecard_link  \n",
       "0  https://www.espncricinfo.com/series/indian-pre...  \n",
       "1  https://www.espncricinfo.com/series/indian-pre...  "
      ]
     },
     "execution_count": 3,
     "metadata": {},
     "output_type": "execute_result"
    }
   ],
   "source": [
    "#match_info \n",
    "df_match_info.shape \n",
    "df_match_info.head(2)"
   ]
  },
  {
   "cell_type": "code",
   "execution_count": 4,
   "id": "9119f9b2",
   "metadata": {},
   "outputs": [
    {
     "data": {
      "text/html": [
       "<div>\n",
       "<style scoped>\n",
       "    .dataframe tbody tr th:only-of-type {\n",
       "        vertical-align: middle;\n",
       "    }\n",
       "\n",
       "    .dataframe tbody tr th {\n",
       "        vertical-align: top;\n",
       "    }\n",
       "\n",
       "    .dataframe thead th {\n",
       "        text-align: right;\n",
       "    }\n",
       "</style>\n",
       "<table border=\"1\" class=\"dataframe\">\n",
       "  <thead>\n",
       "    <tr style=\"text-align: right;\">\n",
       "      <th></th>\n",
       "      <th>match</th>\n",
       "      <th>teamInnings</th>\n",
       "      <th>battingPos</th>\n",
       "      <th>batsmanName</th>\n",
       "      <th>dismissal</th>\n",
       "      <th>runs</th>\n",
       "      <th>balls</th>\n",
       "      <th>4s</th>\n",
       "      <th>6s</th>\n",
       "      <th>SR</th>\n",
       "      <th>matchDate</th>\n",
       "    </tr>\n",
       "  </thead>\n",
       "  <tbody>\n",
       "    <tr>\n",
       "      <th>0</th>\n",
       "      <td>Super Kings Vs Titans</td>\n",
       "      <td>Super Kings</td>\n",
       "      <td>1</td>\n",
       "      <td>DevonConway</td>\n",
       "      <td>b Mohammed Shami</td>\n",
       "      <td>1</td>\n",
       "      <td>6</td>\n",
       "      <td>0</td>\n",
       "      <td>0</td>\n",
       "      <td>16.66</td>\n",
       "      <td>Mar 31, 2023</td>\n",
       "    </tr>\n",
       "    <tr>\n",
       "      <th>1</th>\n",
       "      <td>Super Kings Vs Titans</td>\n",
       "      <td>Super Kings</td>\n",
       "      <td>2</td>\n",
       "      <td>RuturajGaikwad</td>\n",
       "      <td>c Shubman Gill b Joseph</td>\n",
       "      <td>92</td>\n",
       "      <td>50</td>\n",
       "      <td>4</td>\n",
       "      <td>9</td>\n",
       "      <td>184.00</td>\n",
       "      <td>Mar 31, 2023</td>\n",
       "    </tr>\n",
       "  </tbody>\n",
       "</table>\n",
       "</div>"
      ],
      "text/plain": [
       "                   match  teamInnings  battingPos      batsmanName  \\\n",
       "0  Super Kings Vs Titans  Super Kings           1     DevonConway    \n",
       "1  Super Kings Vs Titans  Super Kings           2  RuturajGaikwad    \n",
       "\n",
       "                 dismissal  runs  balls  4s  6s      SR     matchDate  \n",
       "0         b Mohammed Shami     1      6   0   0   16.66  Mar 31, 2023  \n",
       "1  c Shubman Gill b Joseph    92     50   4   9  184.00  Mar 31, 2023  "
      ]
     },
     "execution_count": 4,
     "metadata": {},
     "output_type": "execute_result"
    }
   ],
   "source": [
    "#batting\n",
    "df_batting.shape \n",
    "df_batting.head(2)"
   ]
  },
  {
   "cell_type": "code",
   "execution_count": 5,
   "id": "6f398900",
   "metadata": {},
   "outputs": [
    {
     "data": {
      "text/html": [
       "<div>\n",
       "<style scoped>\n",
       "    .dataframe tbody tr th:only-of-type {\n",
       "        vertical-align: middle;\n",
       "    }\n",
       "\n",
       "    .dataframe tbody tr th {\n",
       "        vertical-align: top;\n",
       "    }\n",
       "\n",
       "    .dataframe thead th {\n",
       "        text-align: right;\n",
       "    }\n",
       "</style>\n",
       "<table border=\"1\" class=\"dataframe\">\n",
       "  <thead>\n",
       "    <tr style=\"text-align: right;\">\n",
       "      <th></th>\n",
       "      <th>match</th>\n",
       "      <th>bowlingTeam</th>\n",
       "      <th>bowlerName</th>\n",
       "      <th>overs</th>\n",
       "      <th>maiden</th>\n",
       "      <th>runs</th>\n",
       "      <th>wickets</th>\n",
       "      <th>economy</th>\n",
       "      <th>0s</th>\n",
       "      <th>4s</th>\n",
       "      <th>6s</th>\n",
       "      <th>wides</th>\n",
       "      <th>noBalls</th>\n",
       "      <th>matchDate</th>\n",
       "    </tr>\n",
       "  </thead>\n",
       "  <tbody>\n",
       "    <tr>\n",
       "      <th>0</th>\n",
       "      <td>Super Kings Vs Titans</td>\n",
       "      <td>Titans</td>\n",
       "      <td>MohammedShami</td>\n",
       "      <td>4.0</td>\n",
       "      <td>0</td>\n",
       "      <td>29</td>\n",
       "      <td>2</td>\n",
       "      <td>7.25</td>\n",
       "      <td>13</td>\n",
       "      <td>2</td>\n",
       "      <td>2</td>\n",
       "      <td>0</td>\n",
       "      <td>1</td>\n",
       "      <td>Mar 31, 2023</td>\n",
       "    </tr>\n",
       "    <tr>\n",
       "      <th>1</th>\n",
       "      <td>Super Kings Vs Titans</td>\n",
       "      <td>Titans</td>\n",
       "      <td>HardikPandya</td>\n",
       "      <td>3.0</td>\n",
       "      <td>0</td>\n",
       "      <td>28</td>\n",
       "      <td>0</td>\n",
       "      <td>9.33</td>\n",
       "      <td>6</td>\n",
       "      <td>2</td>\n",
       "      <td>2</td>\n",
       "      <td>0</td>\n",
       "      <td>0</td>\n",
       "      <td>Mar 31, 2023</td>\n",
       "    </tr>\n",
       "  </tbody>\n",
       "</table>\n",
       "</div>"
      ],
      "text/plain": [
       "                   match bowlingTeam     bowlerName  overs  maiden  runs  \\\n",
       "0  Super Kings Vs Titans      Titans  MohammedShami    4.0       0    29   \n",
       "1  Super Kings Vs Titans      Titans   HardikPandya    3.0       0    28   \n",
       "\n",
       "   wickets  economy  0s  4s  6s  wides  noBalls     matchDate  \n",
       "0        2     7.25  13   2   2      0        1  Mar 31, 2023  \n",
       "1        0     9.33   6   2   2      0        0  Mar 31, 2023  "
      ]
     },
     "execution_count": 5,
     "metadata": {},
     "output_type": "execute_result"
    }
   ],
   "source": [
    "#bowling \n",
    "df_bowling.shape \n",
    "df_bowling.head(2)"
   ]
  },
  {
   "cell_type": "code",
   "execution_count": 6,
   "id": "80331368",
   "metadata": {},
   "outputs": [
    {
     "data": {
      "text/html": [
       "<div>\n",
       "<style scoped>\n",
       "    .dataframe tbody tr th:only-of-type {\n",
       "        vertical-align: middle;\n",
       "    }\n",
       "\n",
       "    .dataframe tbody tr th {\n",
       "        vertical-align: top;\n",
       "    }\n",
       "\n",
       "    .dataframe thead th {\n",
       "        text-align: right;\n",
       "    }\n",
       "</style>\n",
       "<table border=\"1\" class=\"dataframe\">\n",
       "  <thead>\n",
       "    <tr style=\"text-align: right;\">\n",
       "      <th></th>\n",
       "      <th>name</th>\n",
       "      <th>team</th>\n",
       "      <th>battingStyle</th>\n",
       "      <th>bowlingStyle</th>\n",
       "      <th>playingRole</th>\n",
       "    </tr>\n",
       "  </thead>\n",
       "  <tbody>\n",
       "    <tr>\n",
       "      <th>0</th>\n",
       "      <td>DevonConway</td>\n",
       "      <td>Super Kings</td>\n",
       "      <td>Left hand Bat</td>\n",
       "      <td>Right arm Medium</td>\n",
       "      <td>Wicketkeeper Batter</td>\n",
       "    </tr>\n",
       "    <tr>\n",
       "      <th>1</th>\n",
       "      <td>RuturajGaikwad</td>\n",
       "      <td>Super Kings</td>\n",
       "      <td>Right hand Bat</td>\n",
       "      <td>Right arm Offbreak</td>\n",
       "      <td>Batter</td>\n",
       "    </tr>\n",
       "  </tbody>\n",
       "</table>\n",
       "</div>"
      ],
      "text/plain": [
       "              name         team    battingStyle        bowlingStyle  \\\n",
       "0     DevonConway   Super Kings   Left hand Bat    Right arm Medium   \n",
       "1  RuturajGaikwad   Super Kings  Right hand Bat  Right arm Offbreak   \n",
       "\n",
       "           playingRole  \n",
       "0  Wicketkeeper Batter  \n",
       "1               Batter  "
      ]
     },
     "execution_count": 6,
     "metadata": {},
     "output_type": "execute_result"
    }
   ],
   "source": [
    "#players\n",
    "df_players.shape \n",
    "df_players.head(2)"
   ]
  },
  {
   "cell_type": "code",
   "execution_count": null,
   "id": "71b3d02d",
   "metadata": {},
   "outputs": [],
   "source": []
  },
  {
   "cell_type": "markdown",
   "id": "6f55310c",
   "metadata": {},
   "source": [
    "### 1: Assiging Unique 'match_ids'"
   ]
  },
  {
   "cell_type": "code",
   "execution_count": 7,
   "id": "2dd9cd07",
   "metadata": {},
   "outputs": [
    {
     "data": {
      "text/html": [
       "<div>\n",
       "<style scoped>\n",
       "    .dataframe tbody tr th:only-of-type {\n",
       "        vertical-align: middle;\n",
       "    }\n",
       "\n",
       "    .dataframe tbody tr th {\n",
       "        vertical-align: top;\n",
       "    }\n",
       "\n",
       "    .dataframe thead th {\n",
       "        text-align: right;\n",
       "    }\n",
       "</style>\n",
       "<table border=\"1\" class=\"dataframe\">\n",
       "  <thead>\n",
       "    <tr style=\"text-align: right;\">\n",
       "      <th></th>\n",
       "      <th>team1</th>\n",
       "      <th>team2</th>\n",
       "      <th>winner</th>\n",
       "      <th>margin</th>\n",
       "      <th>matchDate</th>\n",
       "      <th>scorecard_link</th>\n",
       "      <th>combined_cols</th>\n",
       "    </tr>\n",
       "  </thead>\n",
       "  <tbody>\n",
       "    <tr>\n",
       "      <th>0</th>\n",
       "      <td>Super Kings</td>\n",
       "      <td>Titans</td>\n",
       "      <td>Titans</td>\n",
       "      <td>5 wickets</td>\n",
       "      <td>Mar 31, 2023</td>\n",
       "      <td>https://www.espncricinfo.com/series/indian-pre...</td>\n",
       "      <td>Super Kings Vs Titans Vs Mar 31, 2023</td>\n",
       "    </tr>\n",
       "    <tr>\n",
       "      <th>1</th>\n",
       "      <td>Punjab Kings</td>\n",
       "      <td>KKR</td>\n",
       "      <td>Punjab Kings</td>\n",
       "      <td>7 runs</td>\n",
       "      <td>Apr 1, 2023</td>\n",
       "      <td>https://www.espncricinfo.com/series/indian-pre...</td>\n",
       "      <td>Punjab Kings Vs KKR Vs Apr 1, 2023</td>\n",
       "    </tr>\n",
       "  </tbody>\n",
       "</table>\n",
       "</div>"
      ],
      "text/plain": [
       "          team1   team2        winner     margin     matchDate  \\\n",
       "0   Super Kings  Titans        Titans  5 wickets  Mar 31, 2023   \n",
       "1  Punjab Kings     KKR  Punjab Kings     7 runs   Apr 1, 2023   \n",
       "\n",
       "                                      scorecard_link  \\\n",
       "0  https://www.espncricinfo.com/series/indian-pre...   \n",
       "1  https://www.espncricinfo.com/series/indian-pre...   \n",
       "\n",
       "                           combined_cols  \n",
       "0  Super Kings Vs Titans Vs Mar 31, 2023  \n",
       "1     Punjab Kings Vs KKR Vs Apr 1, 2023  "
      ]
     },
     "execution_count": 7,
     "metadata": {},
     "output_type": "execute_result"
    }
   ],
   "source": [
    "#combination of team1, team2, match_date. \n",
    "\n",
    "#step1: Create a column which in format like 'team1 Vs team2 Vs match_date'\n",
    "\n",
    "df_match_info['combined_cols'] = df_match_info['team1'] + ' Vs ' + df_match_info['team2'] + ' Vs ' + df_match_info['matchDate']\n",
    "df_match_info.head(2)"
   ]
  },
  {
   "cell_type": "code",
   "execution_count": 8,
   "id": "3c3da555",
   "metadata": {},
   "outputs": [],
   "source": [
    "#for batting and bowling too\n",
    "df_batting['combined_cols'] = df_batting['match'] + ' Vs ' + df_batting['matchDate']\n",
    "df_bowling['combined_cols'] = df_bowling['match'] + ' Vs ' + df_bowling['matchDate']"
   ]
  },
  {
   "cell_type": "code",
   "execution_count": 9,
   "id": "05e5985c",
   "metadata": {},
   "outputs": [
    {
     "data": {
      "text/html": [
       "<div>\n",
       "<style scoped>\n",
       "    .dataframe tbody tr th:only-of-type {\n",
       "        vertical-align: middle;\n",
       "    }\n",
       "\n",
       "    .dataframe tbody tr th {\n",
       "        vertical-align: top;\n",
       "    }\n",
       "\n",
       "    .dataframe thead th {\n",
       "        text-align: right;\n",
       "    }\n",
       "</style>\n",
       "<table border=\"1\" class=\"dataframe\">\n",
       "  <thead>\n",
       "    <tr style=\"text-align: right;\">\n",
       "      <th></th>\n",
       "      <th>match</th>\n",
       "      <th>teamInnings</th>\n",
       "      <th>battingPos</th>\n",
       "      <th>batsmanName</th>\n",
       "      <th>dismissal</th>\n",
       "      <th>runs</th>\n",
       "      <th>balls</th>\n",
       "      <th>4s</th>\n",
       "      <th>6s</th>\n",
       "      <th>SR</th>\n",
       "      <th>matchDate</th>\n",
       "      <th>combined_cols</th>\n",
       "    </tr>\n",
       "  </thead>\n",
       "  <tbody>\n",
       "    <tr>\n",
       "      <th>0</th>\n",
       "      <td>Super Kings Vs Titans</td>\n",
       "      <td>Super Kings</td>\n",
       "      <td>1</td>\n",
       "      <td>DevonConway</td>\n",
       "      <td>b Mohammed Shami</td>\n",
       "      <td>1</td>\n",
       "      <td>6</td>\n",
       "      <td>0</td>\n",
       "      <td>0</td>\n",
       "      <td>16.66</td>\n",
       "      <td>Mar 31, 2023</td>\n",
       "      <td>Super Kings Vs Titans Vs Mar 31, 2023</td>\n",
       "    </tr>\n",
       "    <tr>\n",
       "      <th>1</th>\n",
       "      <td>Super Kings Vs Titans</td>\n",
       "      <td>Super Kings</td>\n",
       "      <td>2</td>\n",
       "      <td>RuturajGaikwad</td>\n",
       "      <td>c Shubman Gill b Joseph</td>\n",
       "      <td>92</td>\n",
       "      <td>50</td>\n",
       "      <td>4</td>\n",
       "      <td>9</td>\n",
       "      <td>184.00</td>\n",
       "      <td>Mar 31, 2023</td>\n",
       "      <td>Super Kings Vs Titans Vs Mar 31, 2023</td>\n",
       "    </tr>\n",
       "  </tbody>\n",
       "</table>\n",
       "</div>"
      ],
      "text/plain": [
       "                   match  teamInnings  battingPos      batsmanName  \\\n",
       "0  Super Kings Vs Titans  Super Kings           1     DevonConway    \n",
       "1  Super Kings Vs Titans  Super Kings           2  RuturajGaikwad    \n",
       "\n",
       "                 dismissal  runs  balls  4s  6s      SR     matchDate  \\\n",
       "0         b Mohammed Shami     1      6   0   0   16.66  Mar 31, 2023   \n",
       "1  c Shubman Gill b Joseph    92     50   4   9  184.00  Mar 31, 2023   \n",
       "\n",
       "                           combined_cols  \n",
       "0  Super Kings Vs Titans Vs Mar 31, 2023  \n",
       "1  Super Kings Vs Titans Vs Mar 31, 2023  "
      ]
     },
     "execution_count": 9,
     "metadata": {},
     "output_type": "execute_result"
    }
   ],
   "source": [
    "df_batting.head(2)"
   ]
  },
  {
   "cell_type": "code",
   "execution_count": 10,
   "id": "e8697123",
   "metadata": {},
   "outputs": [
    {
     "data": {
      "text/html": [
       "<div>\n",
       "<style scoped>\n",
       "    .dataframe tbody tr th:only-of-type {\n",
       "        vertical-align: middle;\n",
       "    }\n",
       "\n",
       "    .dataframe tbody tr th {\n",
       "        vertical-align: top;\n",
       "    }\n",
       "\n",
       "    .dataframe thead th {\n",
       "        text-align: right;\n",
       "    }\n",
       "</style>\n",
       "<table border=\"1\" class=\"dataframe\">\n",
       "  <thead>\n",
       "    <tr style=\"text-align: right;\">\n",
       "      <th></th>\n",
       "      <th>match</th>\n",
       "      <th>bowlingTeam</th>\n",
       "      <th>bowlerName</th>\n",
       "      <th>overs</th>\n",
       "      <th>maiden</th>\n",
       "      <th>runs</th>\n",
       "      <th>wickets</th>\n",
       "      <th>economy</th>\n",
       "      <th>0s</th>\n",
       "      <th>4s</th>\n",
       "      <th>6s</th>\n",
       "      <th>wides</th>\n",
       "      <th>noBalls</th>\n",
       "      <th>matchDate</th>\n",
       "      <th>combined_cols</th>\n",
       "    </tr>\n",
       "  </thead>\n",
       "  <tbody>\n",
       "    <tr>\n",
       "      <th>0</th>\n",
       "      <td>Super Kings Vs Titans</td>\n",
       "      <td>Titans</td>\n",
       "      <td>MohammedShami</td>\n",
       "      <td>4.0</td>\n",
       "      <td>0</td>\n",
       "      <td>29</td>\n",
       "      <td>2</td>\n",
       "      <td>7.25</td>\n",
       "      <td>13</td>\n",
       "      <td>2</td>\n",
       "      <td>2</td>\n",
       "      <td>0</td>\n",
       "      <td>1</td>\n",
       "      <td>Mar 31, 2023</td>\n",
       "      <td>Super Kings Vs Titans Vs Mar 31, 2023</td>\n",
       "    </tr>\n",
       "    <tr>\n",
       "      <th>1</th>\n",
       "      <td>Super Kings Vs Titans</td>\n",
       "      <td>Titans</td>\n",
       "      <td>HardikPandya</td>\n",
       "      <td>3.0</td>\n",
       "      <td>0</td>\n",
       "      <td>28</td>\n",
       "      <td>0</td>\n",
       "      <td>9.33</td>\n",
       "      <td>6</td>\n",
       "      <td>2</td>\n",
       "      <td>2</td>\n",
       "      <td>0</td>\n",
       "      <td>0</td>\n",
       "      <td>Mar 31, 2023</td>\n",
       "      <td>Super Kings Vs Titans Vs Mar 31, 2023</td>\n",
       "    </tr>\n",
       "  </tbody>\n",
       "</table>\n",
       "</div>"
      ],
      "text/plain": [
       "                   match bowlingTeam     bowlerName  overs  maiden  runs  \\\n",
       "0  Super Kings Vs Titans      Titans  MohammedShami    4.0       0    29   \n",
       "1  Super Kings Vs Titans      Titans   HardikPandya    3.0       0    28   \n",
       "\n",
       "   wickets  economy  0s  4s  6s  wides  noBalls     matchDate  \\\n",
       "0        2     7.25  13   2   2      0        1  Mar 31, 2023   \n",
       "1        0     9.33   6   2   2      0        0  Mar 31, 2023   \n",
       "\n",
       "                           combined_cols  \n",
       "0  Super Kings Vs Titans Vs Mar 31, 2023  \n",
       "1  Super Kings Vs Titans Vs Mar 31, 2023  "
      ]
     },
     "execution_count": 10,
     "metadata": {},
     "output_type": "execute_result"
    }
   ],
   "source": [
    "df_bowling.head(2)"
   ]
  },
  {
   "cell_type": "markdown",
   "id": "36def8f1",
   "metadata": {},
   "source": [
    "**Unique Match_IDS**"
   ]
  },
  {
   "cell_type": "code",
   "execution_count": 11,
   "id": "121bf79a",
   "metadata": {},
   "outputs": [
    {
     "name": "stdout",
     "output_type": "stream",
     "text": [
      "['Super Kings Vs Titans Vs Mar 31, 2023', 'Punjab Kings Vs KKR Vs Apr 1, 2023', 'Super Giants Vs Capitals Vs Apr 1, 2023', 'Royals Vs Sunrisers Vs Apr 2, 2023', 'Mumbai Vs RCB Vs Apr 2, 2023']\n",
      "73\n"
     ]
    }
   ],
   "source": [
    "#create a list of all unique values \n",
    "all_matches = df_match_info['combined_cols'].unique().tolist()\n",
    "print(all_matches[: 5])\n",
    "print(len(all_matches))"
   ]
  },
  {
   "cell_type": "code",
   "execution_count": 12,
   "id": "e71184bc",
   "metadata": {},
   "outputs": [
    {
     "name": "stdout",
     "output_type": "stream",
     "text": [
      "['T205274', 'T207733', 'T203391', 'T204662', 'T204410']\n"
     ]
    }
   ],
   "source": [
    "#let assign a unique id for each match_id \n",
    "\n",
    "unique_ids = set()\n",
    "\n",
    "while len(unique_ids) < len(all_matches ):\n",
    "    unique_id = \"T20\" + str(random.randint(1000, 9999))\n",
    "    unique_ids.add(unique_id)\n",
    "\n",
    "unique_ids_list = list(unique_ids)\n",
    "print(unique_ids_list[: 5])"
   ]
  },
  {
   "cell_type": "code",
   "execution_count": 13,
   "id": "28d20978",
   "metadata": {},
   "outputs": [
    {
     "name": "stdout",
     "output_type": "stream",
     "text": [
      "{'Super Kings Vs Titans Vs Mar 31, 2023': 'T205274', 'Punjab Kings Vs KKR Vs Apr 1, 2023': 'T207733', 'Super Giants Vs Capitals Vs Apr 1, 2023': 'T203391', 'Royals Vs Sunrisers Vs Apr 2, 2023': 'T204662', 'Mumbai Vs RCB Vs Apr 2, 2023': 'T204410', 'Super Kings Vs Super Giants Vs Apr 3, 2023': 'T207290', 'Capitals Vs Titans Vs Apr 4, 2023': 'T206559', 'Punjab Kings Vs Royals Vs Apr 5, 2023': 'T203806', 'KKR Vs RCB Vs Apr 6, 2023': 'T204417', 'Sunrisers Vs Super Giants Vs Apr 7, 2023': 'T203547', 'Royals Vs Capitals Vs Apr 8, 2023': 'T203342', 'Mumbai Vs Super Kings Vs Apr 8, 2023': 'T208306', 'Titans Vs KKR Vs Apr 9, 2023': 'T203927', 'Punjab Kings Vs Sunrisers Vs Apr 9, 2023': 'T208249', 'RCB Vs Super Giants Vs Apr 10, 2023': 'T203357', 'Capitals Vs Mumbai Vs Apr 11, 2023': 'T202058', 'Royals Vs Super Kings Vs Apr 12, 2023': 'T203450', 'Punjab Kings Vs Titans Vs Apr 13, 2023': 'T208318', 'Sunrisers Vs KKR Vs Apr 14, 2023': 'T202532', 'RCB Vs Capitals Vs Apr 15, 2023': 'T207991', 'Super Giants Vs Punjab Kings Vs Apr 15, 2023': 'T204901', 'KKR Vs Mumbai Vs Apr 16, 2023': 'T203876', 'Titans Vs Royals Vs Apr 16, 2023': 'T202106', 'Super Kings Vs RCB Vs Apr 17, 2023': 'T207821', 'Mumbai Vs Sunrisers Vs Apr 18, 2023': 'T208353', 'Super Giants Vs Royals Vs Apr 19, 2023': 'T208785', 'RCB Vs Punjab Kings Vs Apr 20, 2023': 'T206323', 'KKR Vs Capitals Vs Apr 20, 2023': 'T201404', 'Sunrisers Vs Super Kings Vs Apr 21, 2023': 'T209492', 'Titans Vs Super Giants Vs Apr 22, 2023': 'T201038', 'Punjab Kings Vs Mumbai Vs Apr 22, 2023': 'T205955', 'RCB Vs Royals Vs Apr 23, 2023': 'T208050', 'Super Kings Vs KKR Vs Apr 23, 2023': 'T208630', 'Capitals Vs Sunrisers Vs Apr 24, 2023': 'T201505', 'Titans Vs Mumbai Vs Apr 25, 2023': 'T209782', 'KKR Vs RCB Vs Apr 26, 2023': 'T203039', 'Royals Vs Super Kings Vs Apr 27, 2023': 'T204320', 'Super Giants Vs Punjab Kings Vs Apr 28, 2023': 'T202948', 'KKR Vs Titans Vs Apr 29, 2023': 'T208384', 'Sunrisers Vs Capitals Vs Apr 29, 2023': 'T208709', 'Super Kings Vs Punjab Kings Vs Apr 30, 2023': 'T205766', 'Royals Vs Mumbai Vs Apr 30, 2023': 'T204998', 'RCB Vs Super Giants Vs May 1, 2023': 'T203741', 'Capitals Vs Titans Vs May 2, 2023': 'T202829', 'Punjab Kings Vs Mumbai Vs May 3, 2023': 'T205538', 'KKR Vs Sunrisers Vs May 4, 2023': 'T204127', 'Royals Vs Titans Vs May 5, 2023': 'T209787', 'Mumbai Vs Super Kings Vs May 6, 2023': 'T201150', 'RCB Vs Capitals Vs May 6, 2023': 'T204969', 'Titans Vs Super Giants Vs May 7, 2023': 'T204882', 'Royals Vs Sunrisers Vs May 7, 2023': 'T202091', 'Punjab Kings Vs KKR Vs May 8, 2023': 'T205835', 'RCB Vs Mumbai Vs May 9, 2023': 'T207753', 'Super Kings Vs Capitals Vs May 10, 2023': 'T209716', 'KKR Vs Royals Vs May 11, 2023': 'T209254', 'Mumbai Vs Titans Vs May 12, 2023': 'T209868', 'Sunrisers Vs Super Giants Vs May 13, 2023': 'T204056', 'Punjab Kings Vs Capitals Vs May 13, 2023': 'T205679', 'RCB Vs Royals Vs May 14, 2023': 'T204222', 'Super Kings Vs KKR Vs May 14, 2023': 'T201479', 'Titans Vs Sunrisers Vs May 15, 2023': 'T203760', 'Super Giants Vs Mumbai Vs May 16, 2023': 'T209829', 'Capitals Vs Punjab Kings Vs May 17, 2023': 'T206208', 'Sunrisers Vs RCB Vs May 18, 2023': 'T209543', 'Punjab Kings Vs Royals Vs May 19, 2023': 'T202827', 'Super Kings Vs Capitals Vs May 20, 2023': 'T203140', 'Super Giants Vs KKR Vs May 20, 2023': 'T203175', 'Sunrisers Vs Mumbai Vs May 21, 2023': 'T201855', 'RCB Vs Titans Vs May 21, 2023': 'T205366', 'Super Kings Vs Titans Vs May 23, 2023': 'T203271', 'Mumbai Vs Super Giants Vs May 24, 2023': 'T207210', 'Titans Vs Mumbai Vs May 26, 2023': 'T201090', 'Titans Vs Super Kings Vs May 29, 2023': 'T202039'}\n"
     ]
    }
   ],
   "source": [
    "#let's create a dictionary for this. \n",
    "#key: value <---> match: match_id\n",
    "\n",
    "\n",
    "dict_matches = {}\n",
    "for match_combined, match_id in zip(all_matches, unique_ids):\n",
    "    dict_matches[match_combined] = match_id\n",
    "    \n",
    "print(dict_matches)"
   ]
  },
  {
   "cell_type": "code",
   "execution_count": 14,
   "id": "14b72135",
   "metadata": {},
   "outputs": [],
   "source": [
    "#let's map them for all the tables\n",
    "\n",
    "df_match_info['match_id'] = df_match_info['combined_cols'].map(dict_matches)\n",
    "df_batting['match_id'] = df_batting['combined_cols'].map(dict_matches)\n",
    "df_bowling['match_id'] = df_bowling['combined_cols'].map(dict_matches)"
   ]
  },
  {
   "cell_type": "code",
   "execution_count": 15,
   "id": "968a7f40",
   "metadata": {},
   "outputs": [],
   "source": [
    "#remove the created column and  not required cols\n",
    "\n",
    "df_match_info.drop(\"combined_cols\", axis = 1, inplace = True)\n",
    "df_batting.drop(\"combined_cols\", axis = 1, inplace = True)\n",
    "df_bowling.drop(\"combined_cols\", axis = 1, inplace = True)\n",
    "\n",
    "\n",
    "#match date in batting and bowling\n",
    "df_batting.drop(\"matchDate\", axis = 1, inplace = True)\n",
    "df_bowling.drop(\"matchDate\", axis = 1, inplace = True)"
   ]
  },
  {
   "cell_type": "code",
   "execution_count": 16,
   "id": "6b74dbf3",
   "metadata": {},
   "outputs": [
    {
     "data": {
      "text/html": [
       "<div>\n",
       "<style scoped>\n",
       "    .dataframe tbody tr th:only-of-type {\n",
       "        vertical-align: middle;\n",
       "    }\n",
       "\n",
       "    .dataframe tbody tr th {\n",
       "        vertical-align: top;\n",
       "    }\n",
       "\n",
       "    .dataframe thead th {\n",
       "        text-align: right;\n",
       "    }\n",
       "</style>\n",
       "<table border=\"1\" class=\"dataframe\">\n",
       "  <thead>\n",
       "    <tr style=\"text-align: right;\">\n",
       "      <th></th>\n",
       "      <th>team1</th>\n",
       "      <th>team2</th>\n",
       "      <th>winner</th>\n",
       "      <th>margin</th>\n",
       "      <th>matchDate</th>\n",
       "      <th>scorecard_link</th>\n",
       "      <th>match_id</th>\n",
       "    </tr>\n",
       "  </thead>\n",
       "  <tbody>\n",
       "    <tr>\n",
       "      <th>0</th>\n",
       "      <td>Super Kings</td>\n",
       "      <td>Titans</td>\n",
       "      <td>Titans</td>\n",
       "      <td>5 wickets</td>\n",
       "      <td>Mar 31, 2023</td>\n",
       "      <td>https://www.espncricinfo.com/series/indian-pre...</td>\n",
       "      <td>T205274</td>\n",
       "    </tr>\n",
       "    <tr>\n",
       "      <th>1</th>\n",
       "      <td>Punjab Kings</td>\n",
       "      <td>KKR</td>\n",
       "      <td>Punjab Kings</td>\n",
       "      <td>7 runs</td>\n",
       "      <td>Apr 1, 2023</td>\n",
       "      <td>https://www.espncricinfo.com/series/indian-pre...</td>\n",
       "      <td>T207733</td>\n",
       "    </tr>\n",
       "  </tbody>\n",
       "</table>\n",
       "</div>"
      ],
      "text/plain": [
       "          team1   team2        winner     margin     matchDate  \\\n",
       "0   Super Kings  Titans        Titans  5 wickets  Mar 31, 2023   \n",
       "1  Punjab Kings     KKR  Punjab Kings     7 runs   Apr 1, 2023   \n",
       "\n",
       "                                      scorecard_link match_id  \n",
       "0  https://www.espncricinfo.com/series/indian-pre...  T205274  \n",
       "1  https://www.espncricinfo.com/series/indian-pre...  T207733  "
      ]
     },
     "execution_count": 16,
     "metadata": {},
     "output_type": "execute_result"
    }
   ],
   "source": [
    "df_match_info.head(2)"
   ]
  },
  {
   "cell_type": "code",
   "execution_count": 17,
   "id": "9cb1f7cf",
   "metadata": {},
   "outputs": [
    {
     "data": {
      "text/html": [
       "<div>\n",
       "<style scoped>\n",
       "    .dataframe tbody tr th:only-of-type {\n",
       "        vertical-align: middle;\n",
       "    }\n",
       "\n",
       "    .dataframe tbody tr th {\n",
       "        vertical-align: top;\n",
       "    }\n",
       "\n",
       "    .dataframe thead th {\n",
       "        text-align: right;\n",
       "    }\n",
       "</style>\n",
       "<table border=\"1\" class=\"dataframe\">\n",
       "  <thead>\n",
       "    <tr style=\"text-align: right;\">\n",
       "      <th></th>\n",
       "      <th>match</th>\n",
       "      <th>teamInnings</th>\n",
       "      <th>battingPos</th>\n",
       "      <th>batsmanName</th>\n",
       "      <th>dismissal</th>\n",
       "      <th>runs</th>\n",
       "      <th>balls</th>\n",
       "      <th>4s</th>\n",
       "      <th>6s</th>\n",
       "      <th>SR</th>\n",
       "      <th>match_id</th>\n",
       "    </tr>\n",
       "  </thead>\n",
       "  <tbody>\n",
       "    <tr>\n",
       "      <th>0</th>\n",
       "      <td>Super Kings Vs Titans</td>\n",
       "      <td>Super Kings</td>\n",
       "      <td>1</td>\n",
       "      <td>DevonConway</td>\n",
       "      <td>b Mohammed Shami</td>\n",
       "      <td>1</td>\n",
       "      <td>6</td>\n",
       "      <td>0</td>\n",
       "      <td>0</td>\n",
       "      <td>16.66</td>\n",
       "      <td>T205274</td>\n",
       "    </tr>\n",
       "    <tr>\n",
       "      <th>1</th>\n",
       "      <td>Super Kings Vs Titans</td>\n",
       "      <td>Super Kings</td>\n",
       "      <td>2</td>\n",
       "      <td>RuturajGaikwad</td>\n",
       "      <td>c Shubman Gill b Joseph</td>\n",
       "      <td>92</td>\n",
       "      <td>50</td>\n",
       "      <td>4</td>\n",
       "      <td>9</td>\n",
       "      <td>184.00</td>\n",
       "      <td>T205274</td>\n",
       "    </tr>\n",
       "  </tbody>\n",
       "</table>\n",
       "</div>"
      ],
      "text/plain": [
       "                   match  teamInnings  battingPos      batsmanName  \\\n",
       "0  Super Kings Vs Titans  Super Kings           1     DevonConway    \n",
       "1  Super Kings Vs Titans  Super Kings           2  RuturajGaikwad    \n",
       "\n",
       "                 dismissal  runs  balls  4s  6s      SR match_id  \n",
       "0         b Mohammed Shami     1      6   0   0   16.66  T205274  \n",
       "1  c Shubman Gill b Joseph    92     50   4   9  184.00  T205274  "
      ]
     },
     "execution_count": 17,
     "metadata": {},
     "output_type": "execute_result"
    }
   ],
   "source": [
    "df_batting.head(2)"
   ]
  },
  {
   "cell_type": "code",
   "execution_count": 18,
   "id": "9909581d",
   "metadata": {},
   "outputs": [
    {
     "data": {
      "text/html": [
       "<div>\n",
       "<style scoped>\n",
       "    .dataframe tbody tr th:only-of-type {\n",
       "        vertical-align: middle;\n",
       "    }\n",
       "\n",
       "    .dataframe tbody tr th {\n",
       "        vertical-align: top;\n",
       "    }\n",
       "\n",
       "    .dataframe thead th {\n",
       "        text-align: right;\n",
       "    }\n",
       "</style>\n",
       "<table border=\"1\" class=\"dataframe\">\n",
       "  <thead>\n",
       "    <tr style=\"text-align: right;\">\n",
       "      <th></th>\n",
       "      <th>match</th>\n",
       "      <th>bowlingTeam</th>\n",
       "      <th>bowlerName</th>\n",
       "      <th>overs</th>\n",
       "      <th>maiden</th>\n",
       "      <th>runs</th>\n",
       "      <th>wickets</th>\n",
       "      <th>economy</th>\n",
       "      <th>0s</th>\n",
       "      <th>4s</th>\n",
       "      <th>6s</th>\n",
       "      <th>wides</th>\n",
       "      <th>noBalls</th>\n",
       "      <th>match_id</th>\n",
       "    </tr>\n",
       "  </thead>\n",
       "  <tbody>\n",
       "    <tr>\n",
       "      <th>0</th>\n",
       "      <td>Super Kings Vs Titans</td>\n",
       "      <td>Titans</td>\n",
       "      <td>MohammedShami</td>\n",
       "      <td>4.0</td>\n",
       "      <td>0</td>\n",
       "      <td>29</td>\n",
       "      <td>2</td>\n",
       "      <td>7.25</td>\n",
       "      <td>13</td>\n",
       "      <td>2</td>\n",
       "      <td>2</td>\n",
       "      <td>0</td>\n",
       "      <td>1</td>\n",
       "      <td>T205274</td>\n",
       "    </tr>\n",
       "    <tr>\n",
       "      <th>1</th>\n",
       "      <td>Super Kings Vs Titans</td>\n",
       "      <td>Titans</td>\n",
       "      <td>HardikPandya</td>\n",
       "      <td>3.0</td>\n",
       "      <td>0</td>\n",
       "      <td>28</td>\n",
       "      <td>0</td>\n",
       "      <td>9.33</td>\n",
       "      <td>6</td>\n",
       "      <td>2</td>\n",
       "      <td>2</td>\n",
       "      <td>0</td>\n",
       "      <td>0</td>\n",
       "      <td>T205274</td>\n",
       "    </tr>\n",
       "  </tbody>\n",
       "</table>\n",
       "</div>"
      ],
      "text/plain": [
       "                   match bowlingTeam     bowlerName  overs  maiden  runs  \\\n",
       "0  Super Kings Vs Titans      Titans  MohammedShami    4.0       0    29   \n",
       "1  Super Kings Vs Titans      Titans   HardikPandya    3.0       0    28   \n",
       "\n",
       "   wickets  economy  0s  4s  6s  wides  noBalls match_id  \n",
       "0        2     7.25  13   2   2      0        1  T205274  \n",
       "1        0     9.33   6   2   2      0        0  T205274  "
      ]
     },
     "execution_count": 18,
     "metadata": {},
     "output_type": "execute_result"
    }
   ],
   "source": [
    "df_bowling.head(2)"
   ]
  },
  {
   "cell_type": "markdown",
   "id": "f8b37266",
   "metadata": {},
   "source": [
    "# 2: Cleaning Names of players"
   ]
  },
  {
   "cell_type": "markdown",
   "id": "5c2fd07a",
   "metadata": {},
   "source": [
    "- **1. Removing Unusal Character**"
   ]
  },
  {
   "cell_type": "code",
   "execution_count": 19,
   "id": "dd3cdaef",
   "metadata": {},
   "outputs": [
    {
     "data": {
      "text/plain": [
       "'DevonConway\\xa0'"
      ]
     },
     "execution_count": 19,
     "metadata": {},
     "output_type": "execute_result"
    }
   ],
   "source": [
    "df_players.iloc[0]['name']"
   ]
  },
  {
   "cell_type": "code",
   "execution_count": 20,
   "id": "2f9cbd32",
   "metadata": {},
   "outputs": [
    {
     "data": {
      "text/plain": [
       "'DevonConway\\xa0'"
      ]
     },
     "execution_count": 20,
     "metadata": {},
     "output_type": "execute_result"
    }
   ],
   "source": [
    "df_batting.iloc[0]['batsmanName']"
   ]
  },
  {
   "cell_type": "code",
   "execution_count": 21,
   "id": "cdc3d3e0",
   "metadata": {},
   "outputs": [],
   "source": [
    "\n",
    "#players \n",
    "df_players['name'] = df_players['name'].apply(lambda x: x.replace('â€', ''))\n",
    "df_players['name'] = df_players['name'].apply(lambda x: x.replace('\\xa0', ''))\n",
    "\n",
    "\n",
    "#batting\n",
    "df_batting['batsmanName'] = df_batting['batsmanName'].apply(lambda x: x.replace('â€', ''))\n",
    "df_batting['batsmanName']= df_batting['batsmanName'].apply(lambda x: x.replace('\\xa0', ''))\n",
    "\n",
    "\n",
    "#bowling\n",
    "df_bowling['bowlerName'] = df_bowling['bowlerName'].apply(lambda x: x.replace('â€', ''))\n",
    "df_bowling['bowlerName'] = df_bowling['bowlerName'].apply(lambda x: x.replace('\\xa0', ''))"
   ]
  },
  {
   "cell_type": "markdown",
   "id": "afa0a59a",
   "metadata": {},
   "source": [
    "- **2: Removing (c) and  †\tsymbol**"
   ]
  },
  {
   "cell_type": "code",
   "execution_count": 22,
   "id": "8167f9b6",
   "metadata": {},
   "outputs": [
    {
     "data": {
      "text/html": [
       "<div>\n",
       "<style scoped>\n",
       "    .dataframe tbody tr th:only-of-type {\n",
       "        vertical-align: middle;\n",
       "    }\n",
       "\n",
       "    .dataframe tbody tr th {\n",
       "        vertical-align: top;\n",
       "    }\n",
       "\n",
       "    .dataframe thead th {\n",
       "        text-align: right;\n",
       "    }\n",
       "</style>\n",
       "<table border=\"1\" class=\"dataframe\">\n",
       "  <thead>\n",
       "    <tr style=\"text-align: right;\">\n",
       "      <th></th>\n",
       "      <th>name</th>\n",
       "      <th>team</th>\n",
       "      <th>battingStyle</th>\n",
       "      <th>bowlingStyle</th>\n",
       "      <th>playingRole</th>\n",
       "    </tr>\n",
       "  </thead>\n",
       "  <tbody>\n",
       "    <tr>\n",
       "      <th>123</th>\n",
       "      <td>ViratKohli</td>\n",
       "      <td>RCB</td>\n",
       "      <td>Right hand Bat</td>\n",
       "      <td>Right arm Medium</td>\n",
       "      <td>Top order Batter</td>\n",
       "    </tr>\n",
       "    <tr>\n",
       "      <th>238</th>\n",
       "      <td>ViratKohli(c)</td>\n",
       "      <td>RCB</td>\n",
       "      <td>Right hand Bat</td>\n",
       "      <td>Right arm Medium</td>\n",
       "      <td>Top order Batter</td>\n",
       "    </tr>\n",
       "  </tbody>\n",
       "</table>\n",
       "</div>"
      ],
      "text/plain": [
       "              name team    battingStyle      bowlingStyle       playingRole\n",
       "123     ViratKohli  RCB  Right hand Bat  Right arm Medium  Top order Batter\n",
       "238  ViratKohli(c)  RCB  Right hand Bat  Right arm Medium  Top order Batter"
      ]
     },
     "execution_count": 22,
     "metadata": {},
     "output_type": "execute_result"
    }
   ],
   "source": [
    "df_players[(df_players['name'] == 'ViratKohli') | (df_players['name'] == 'ViratKohli(c)')]"
   ]
  },
  {
   "cell_type": "code",
   "execution_count": 23,
   "id": "4f1afd2a",
   "metadata": {},
   "outputs": [
    {
     "data": {
      "text/html": [
       "<div>\n",
       "<style scoped>\n",
       "    .dataframe tbody tr th:only-of-type {\n",
       "        vertical-align: middle;\n",
       "    }\n",
       "\n",
       "    .dataframe tbody tr th {\n",
       "        vertical-align: top;\n",
       "    }\n",
       "\n",
       "    .dataframe thead th {\n",
       "        text-align: right;\n",
       "    }\n",
       "</style>\n",
       "<table border=\"1\" class=\"dataframe\">\n",
       "  <thead>\n",
       "    <tr style=\"text-align: right;\">\n",
       "      <th></th>\n",
       "      <th>name</th>\n",
       "      <th>team</th>\n",
       "      <th>battingStyle</th>\n",
       "      <th>bowlingStyle</th>\n",
       "      <th>playingRole</th>\n",
       "    </tr>\n",
       "  </thead>\n",
       "  <tbody>\n",
       "    <tr>\n",
       "      <th>125</th>\n",
       "      <td>DineshKarthik†</td>\n",
       "      <td>RCB</td>\n",
       "      <td>Right hand Bat</td>\n",
       "      <td>Right arm Offbreak</td>\n",
       "      <td>Wicketkeeper Batter</td>\n",
       "    </tr>\n",
       "    <tr>\n",
       "      <th>319</th>\n",
       "      <td>DineshKarthik</td>\n",
       "      <td>RCB</td>\n",
       "      <td>Right hand Bat</td>\n",
       "      <td>Right arm Offbreak</td>\n",
       "      <td>Wicketkeeper Batter</td>\n",
       "    </tr>\n",
       "  </tbody>\n",
       "</table>\n",
       "</div>"
      ],
      "text/plain": [
       "               name team    battingStyle        bowlingStyle  \\\n",
       "125  DineshKarthik†  RCB  Right hand Bat  Right arm Offbreak   \n",
       "319   DineshKarthik  RCB  Right hand Bat  Right arm Offbreak   \n",
       "\n",
       "             playingRole  \n",
       "125  Wicketkeeper Batter  \n",
       "319  Wicketkeeper Batter  "
      ]
     },
     "execution_count": 23,
     "metadata": {},
     "output_type": "execute_result"
    }
   ],
   "source": [
    "df_players[(df_players['name'] == 'DineshKarthik†') | (df_players['name'] == 'DineshKarthik')]"
   ]
  },
  {
   "cell_type": "code",
   "execution_count": 24,
   "id": "35f121eb",
   "metadata": {},
   "outputs": [],
   "source": [
    "df_players['name'] = df_players['name'].apply(lambda x: x.replace('(c)', ''))\n",
    "df_players['name'] = df_players['name'].apply(lambda x: x.replace('†', ''))\n",
    "\n",
    "\n",
    "#batting\n",
    "df_batting['batsmanName'] = df_batting['batsmanName'].apply(lambda x: x.replace('(c)', ''))\n",
    "df_batting['batsmanName']= df_batting['batsmanName'].apply(lambda x: x.replace('†', ''))\n",
    "\n",
    "\n",
    "#bowling\n",
    "df_bowling['bowlerName'] = df_bowling['bowlerName'].apply(lambda x: x.replace('(c)', ''))\n",
    "df_bowling['bowlerName'] = df_bowling['bowlerName'].apply(lambda x: x.replace('†', ''))"
   ]
  },
  {
   "cell_type": "code",
   "execution_count": 25,
   "id": "e8eb817f",
   "metadata": {},
   "outputs": [],
   "source": [
    "#drop duplciates in df_players\n",
    "\n",
    "df_players = df_players.drop_duplicates(subset='name').reset_index(drop=True)"
   ]
  },
  {
   "cell_type": "markdown",
   "id": "d159496e",
   "metadata": {},
   "source": [
    "### 3: out/not_out column"
   ]
  },
  {
   "cell_type": "code",
   "execution_count": 26,
   "id": "e026dc0d",
   "metadata": {},
   "outputs": [],
   "source": [
    "df_batting['out/not_out'] = df_batting.dismissal.apply(lambda x: \"out\" if x != \"not out\" else \"not_out\")"
   ]
  },
  {
   "cell_type": "code",
   "execution_count": 27,
   "id": "ae63a0c0",
   "metadata": {},
   "outputs": [],
   "source": [
    "df_batting.drop(columns=[\"dismissal\"], inplace=True)"
   ]
  },
  {
   "cell_type": "code",
   "execution_count": 28,
   "id": "91e0f71f",
   "metadata": {},
   "outputs": [
    {
     "data": {
      "text/html": [
       "<div>\n",
       "<style scoped>\n",
       "    .dataframe tbody tr th:only-of-type {\n",
       "        vertical-align: middle;\n",
       "    }\n",
       "\n",
       "    .dataframe tbody tr th {\n",
       "        vertical-align: top;\n",
       "    }\n",
       "\n",
       "    .dataframe thead th {\n",
       "        text-align: right;\n",
       "    }\n",
       "</style>\n",
       "<table border=\"1\" class=\"dataframe\">\n",
       "  <thead>\n",
       "    <tr style=\"text-align: right;\">\n",
       "      <th></th>\n",
       "      <th>match</th>\n",
       "      <th>teamInnings</th>\n",
       "      <th>battingPos</th>\n",
       "      <th>batsmanName</th>\n",
       "      <th>runs</th>\n",
       "      <th>balls</th>\n",
       "      <th>4s</th>\n",
       "      <th>6s</th>\n",
       "      <th>SR</th>\n",
       "      <th>match_id</th>\n",
       "      <th>out/not_out</th>\n",
       "    </tr>\n",
       "  </thead>\n",
       "  <tbody>\n",
       "    <tr>\n",
       "      <th>0</th>\n",
       "      <td>Super Kings Vs Titans</td>\n",
       "      <td>Super Kings</td>\n",
       "      <td>1</td>\n",
       "      <td>DevonConway</td>\n",
       "      <td>1</td>\n",
       "      <td>6</td>\n",
       "      <td>0</td>\n",
       "      <td>0</td>\n",
       "      <td>16.66</td>\n",
       "      <td>T205274</td>\n",
       "      <td>out</td>\n",
       "    </tr>\n",
       "    <tr>\n",
       "      <th>1</th>\n",
       "      <td>Super Kings Vs Titans</td>\n",
       "      <td>Super Kings</td>\n",
       "      <td>2</td>\n",
       "      <td>RuturajGaikwad</td>\n",
       "      <td>92</td>\n",
       "      <td>50</td>\n",
       "      <td>4</td>\n",
       "      <td>9</td>\n",
       "      <td>184.00</td>\n",
       "      <td>T205274</td>\n",
       "      <td>out</td>\n",
       "    </tr>\n",
       "  </tbody>\n",
       "</table>\n",
       "</div>"
      ],
      "text/plain": [
       "                   match  teamInnings  battingPos     batsmanName  runs  \\\n",
       "0  Super Kings Vs Titans  Super Kings           1     DevonConway     1   \n",
       "1  Super Kings Vs Titans  Super Kings           2  RuturajGaikwad    92   \n",
       "\n",
       "   balls  4s  6s      SR match_id out/not_out  \n",
       "0      6   0   0   16.66  T205274         out  \n",
       "1     50   4   9  184.00  T205274         out  "
      ]
     },
     "execution_count": 28,
     "metadata": {},
     "output_type": "execute_result"
    }
   ],
   "source": [
    "df_batting.head(2)"
   ]
  },
  {
   "cell_type": "markdown",
   "id": "7ad17458",
   "metadata": {},
   "source": [
    "### 4: Final Data and storing "
   ]
  },
  {
   "cell_type": "code",
   "execution_count": 30,
   "id": "eb5b6db9",
   "metadata": {},
   "outputs": [],
   "source": [
    "df_match_info.drop(columns=[\"scorecard_link\"], inplace=True)"
   ]
  },
  {
   "cell_type": "code",
   "execution_count": 31,
   "id": "d4c26f22",
   "metadata": {},
   "outputs": [
    {
     "data": {
      "text/html": [
       "<div>\n",
       "<style scoped>\n",
       "    .dataframe tbody tr th:only-of-type {\n",
       "        vertical-align: middle;\n",
       "    }\n",
       "\n",
       "    .dataframe tbody tr th {\n",
       "        vertical-align: top;\n",
       "    }\n",
       "\n",
       "    .dataframe thead th {\n",
       "        text-align: right;\n",
       "    }\n",
       "</style>\n",
       "<table border=\"1\" class=\"dataframe\">\n",
       "  <thead>\n",
       "    <tr style=\"text-align: right;\">\n",
       "      <th></th>\n",
       "      <th>team1</th>\n",
       "      <th>team2</th>\n",
       "      <th>winner</th>\n",
       "      <th>margin</th>\n",
       "      <th>matchDate</th>\n",
       "      <th>match_id</th>\n",
       "    </tr>\n",
       "  </thead>\n",
       "  <tbody>\n",
       "    <tr>\n",
       "      <th>0</th>\n",
       "      <td>Super Kings</td>\n",
       "      <td>Titans</td>\n",
       "      <td>Titans</td>\n",
       "      <td>5 wickets</td>\n",
       "      <td>Mar 31, 2023</td>\n",
       "      <td>T205274</td>\n",
       "    </tr>\n",
       "    <tr>\n",
       "      <th>1</th>\n",
       "      <td>Punjab Kings</td>\n",
       "      <td>KKR</td>\n",
       "      <td>Punjab Kings</td>\n",
       "      <td>7 runs</td>\n",
       "      <td>Apr 1, 2023</td>\n",
       "      <td>T207733</td>\n",
       "    </tr>\n",
       "  </tbody>\n",
       "</table>\n",
       "</div>"
      ],
      "text/plain": [
       "          team1   team2        winner     margin     matchDate match_id\n",
       "0   Super Kings  Titans        Titans  5 wickets  Mar 31, 2023  T205274\n",
       "1  Punjab Kings     KKR  Punjab Kings     7 runs   Apr 1, 2023  T207733"
      ]
     },
     "execution_count": 31,
     "metadata": {},
     "output_type": "execute_result"
    }
   ],
   "source": [
    "df_match_info.head(2)"
   ]
  },
  {
   "cell_type": "code",
   "execution_count": 33,
   "id": "493587ad",
   "metadata": {},
   "outputs": [],
   "source": [
    "df_match_info.to_csv('dim_match_summary.csv', index = False)"
   ]
  },
  {
   "cell_type": "code",
   "execution_count": 34,
   "id": "a269d509",
   "metadata": {},
   "outputs": [],
   "source": [
    "df_batting = df_batting[['match_id', 'match', 'teamInnings', 'battingPos', 'batsmanName', 'out/not_out',\n",
    "                         'runs', 'balls','4s', '6s', 'SR']]"
   ]
  },
  {
   "cell_type": "code",
   "execution_count": 35,
   "id": "a6224ba9",
   "metadata": {},
   "outputs": [
    {
     "data": {
      "text/html": [
       "<div>\n",
       "<style scoped>\n",
       "    .dataframe tbody tr th:only-of-type {\n",
       "        vertical-align: middle;\n",
       "    }\n",
       "\n",
       "    .dataframe tbody tr th {\n",
       "        vertical-align: top;\n",
       "    }\n",
       "\n",
       "    .dataframe thead th {\n",
       "        text-align: right;\n",
       "    }\n",
       "</style>\n",
       "<table border=\"1\" class=\"dataframe\">\n",
       "  <thead>\n",
       "    <tr style=\"text-align: right;\">\n",
       "      <th></th>\n",
       "      <th>match_id</th>\n",
       "      <th>match</th>\n",
       "      <th>teamInnings</th>\n",
       "      <th>battingPos</th>\n",
       "      <th>batsmanName</th>\n",
       "      <th>out/not_out</th>\n",
       "      <th>runs</th>\n",
       "      <th>balls</th>\n",
       "      <th>4s</th>\n",
       "      <th>6s</th>\n",
       "      <th>SR</th>\n",
       "    </tr>\n",
       "  </thead>\n",
       "  <tbody>\n",
       "    <tr>\n",
       "      <th>0</th>\n",
       "      <td>T205274</td>\n",
       "      <td>Super Kings Vs Titans</td>\n",
       "      <td>Super Kings</td>\n",
       "      <td>1</td>\n",
       "      <td>DevonConway</td>\n",
       "      <td>out</td>\n",
       "      <td>1</td>\n",
       "      <td>6</td>\n",
       "      <td>0</td>\n",
       "      <td>0</td>\n",
       "      <td>16.66</td>\n",
       "    </tr>\n",
       "    <tr>\n",
       "      <th>1</th>\n",
       "      <td>T205274</td>\n",
       "      <td>Super Kings Vs Titans</td>\n",
       "      <td>Super Kings</td>\n",
       "      <td>2</td>\n",
       "      <td>RuturajGaikwad</td>\n",
       "      <td>out</td>\n",
       "      <td>92</td>\n",
       "      <td>50</td>\n",
       "      <td>4</td>\n",
       "      <td>9</td>\n",
       "      <td>184.00</td>\n",
       "    </tr>\n",
       "  </tbody>\n",
       "</table>\n",
       "</div>"
      ],
      "text/plain": [
       "  match_id                  match  teamInnings  battingPos     batsmanName  \\\n",
       "0  T205274  Super Kings Vs Titans  Super Kings           1     DevonConway   \n",
       "1  T205274  Super Kings Vs Titans  Super Kings           2  RuturajGaikwad   \n",
       "\n",
       "  out/not_out  runs  balls  4s  6s      SR  \n",
       "0         out     1      6   0   0   16.66  \n",
       "1         out    92     50   4   9  184.00  "
      ]
     },
     "execution_count": 35,
     "metadata": {},
     "output_type": "execute_result"
    }
   ],
   "source": [
    "df_batting.head(2)"
   ]
  },
  {
   "cell_type": "code",
   "execution_count": 36,
   "id": "293e9615",
   "metadata": {},
   "outputs": [],
   "source": [
    "df_batting.to_csv('fact_bating_summary.csv', index = False)"
   ]
  },
  {
   "cell_type": "code",
   "execution_count": 37,
   "id": "924f6fcd",
   "metadata": {},
   "outputs": [],
   "source": [
    "df_bowling = df_bowling[['match_id', 'match', 'bowlingTeam', 'bowlerName', 'overs', 'maiden', 'runs',\n",
    "       'wickets', 'economy', '0s', '4s', '6s', 'wides', 'noBalls']]"
   ]
  },
  {
   "cell_type": "code",
   "execution_count": 38,
   "id": "4d1f17e0",
   "metadata": {},
   "outputs": [
    {
     "data": {
      "text/html": [
       "<div>\n",
       "<style scoped>\n",
       "    .dataframe tbody tr th:only-of-type {\n",
       "        vertical-align: middle;\n",
       "    }\n",
       "\n",
       "    .dataframe tbody tr th {\n",
       "        vertical-align: top;\n",
       "    }\n",
       "\n",
       "    .dataframe thead th {\n",
       "        text-align: right;\n",
       "    }\n",
       "</style>\n",
       "<table border=\"1\" class=\"dataframe\">\n",
       "  <thead>\n",
       "    <tr style=\"text-align: right;\">\n",
       "      <th></th>\n",
       "      <th>match_id</th>\n",
       "      <th>match</th>\n",
       "      <th>bowlingTeam</th>\n",
       "      <th>bowlerName</th>\n",
       "      <th>overs</th>\n",
       "      <th>maiden</th>\n",
       "      <th>runs</th>\n",
       "      <th>wickets</th>\n",
       "      <th>economy</th>\n",
       "      <th>0s</th>\n",
       "      <th>4s</th>\n",
       "      <th>6s</th>\n",
       "      <th>wides</th>\n",
       "      <th>noBalls</th>\n",
       "    </tr>\n",
       "  </thead>\n",
       "  <tbody>\n",
       "    <tr>\n",
       "      <th>0</th>\n",
       "      <td>T205274</td>\n",
       "      <td>Super Kings Vs Titans</td>\n",
       "      <td>Titans</td>\n",
       "      <td>MohammedShami</td>\n",
       "      <td>4.0</td>\n",
       "      <td>0</td>\n",
       "      <td>29</td>\n",
       "      <td>2</td>\n",
       "      <td>7.25</td>\n",
       "      <td>13</td>\n",
       "      <td>2</td>\n",
       "      <td>2</td>\n",
       "      <td>0</td>\n",
       "      <td>1</td>\n",
       "    </tr>\n",
       "    <tr>\n",
       "      <th>1</th>\n",
       "      <td>T205274</td>\n",
       "      <td>Super Kings Vs Titans</td>\n",
       "      <td>Titans</td>\n",
       "      <td>HardikPandya</td>\n",
       "      <td>3.0</td>\n",
       "      <td>0</td>\n",
       "      <td>28</td>\n",
       "      <td>0</td>\n",
       "      <td>9.33</td>\n",
       "      <td>6</td>\n",
       "      <td>2</td>\n",
       "      <td>2</td>\n",
       "      <td>0</td>\n",
       "      <td>0</td>\n",
       "    </tr>\n",
       "  </tbody>\n",
       "</table>\n",
       "</div>"
      ],
      "text/plain": [
       "  match_id                  match bowlingTeam     bowlerName  overs  maiden  \\\n",
       "0  T205274  Super Kings Vs Titans      Titans  MohammedShami    4.0       0   \n",
       "1  T205274  Super Kings Vs Titans      Titans   HardikPandya    3.0       0   \n",
       "\n",
       "   runs  wickets  economy  0s  4s  6s  wides  noBalls  \n",
       "0    29        2     7.25  13   2   2      0        1  \n",
       "1    28        0     9.33   6   2   2      0        0  "
      ]
     },
     "execution_count": 38,
     "metadata": {},
     "output_type": "execute_result"
    }
   ],
   "source": [
    "df_bowling.head(2)"
   ]
  },
  {
   "cell_type": "code",
   "execution_count": 39,
   "id": "2cde192d",
   "metadata": {},
   "outputs": [],
   "source": [
    "df_bowling.to_csv('fact_bowling_summary.csv', index = False)"
   ]
  },
  {
   "cell_type": "code",
   "execution_count": 40,
   "id": "ece46656",
   "metadata": {},
   "outputs": [
    {
     "data": {
      "text/html": [
       "<div>\n",
       "<style scoped>\n",
       "    .dataframe tbody tr th:only-of-type {\n",
       "        vertical-align: middle;\n",
       "    }\n",
       "\n",
       "    .dataframe tbody tr th {\n",
       "        vertical-align: top;\n",
       "    }\n",
       "\n",
       "    .dataframe thead th {\n",
       "        text-align: right;\n",
       "    }\n",
       "</style>\n",
       "<table border=\"1\" class=\"dataframe\">\n",
       "  <thead>\n",
       "    <tr style=\"text-align: right;\">\n",
       "      <th></th>\n",
       "      <th>name</th>\n",
       "      <th>team</th>\n",
       "      <th>battingStyle</th>\n",
       "      <th>bowlingStyle</th>\n",
       "      <th>playingRole</th>\n",
       "    </tr>\n",
       "  </thead>\n",
       "  <tbody>\n",
       "    <tr>\n",
       "      <th>0</th>\n",
       "      <td>DevonConway</td>\n",
       "      <td>Super Kings</td>\n",
       "      <td>Left hand Bat</td>\n",
       "      <td>Right arm Medium</td>\n",
       "      <td>Wicketkeeper Batter</td>\n",
       "    </tr>\n",
       "    <tr>\n",
       "      <th>1</th>\n",
       "      <td>RuturajGaikwad</td>\n",
       "      <td>Super Kings</td>\n",
       "      <td>Right hand Bat</td>\n",
       "      <td>Right arm Offbreak</td>\n",
       "      <td>Batter</td>\n",
       "    </tr>\n",
       "  </tbody>\n",
       "</table>\n",
       "</div>"
      ],
      "text/plain": [
       "             name         team    battingStyle        bowlingStyle  \\\n",
       "0     DevonConway  Super Kings   Left hand Bat    Right arm Medium   \n",
       "1  RuturajGaikwad  Super Kings  Right hand Bat  Right arm Offbreak   \n",
       "\n",
       "           playingRole  \n",
       "0  Wicketkeeper Batter  \n",
       "1               Batter  "
      ]
     },
     "execution_count": 40,
     "metadata": {},
     "output_type": "execute_result"
    }
   ],
   "source": [
    "df_players.head(2)"
   ]
  },
  {
   "cell_type": "code",
   "execution_count": 41,
   "id": "a9f269da",
   "metadata": {},
   "outputs": [],
   "source": [
    "df_players.to_csv('dim_players.csv', index = False)"
   ]
  }
 ],
 "metadata": {
  "kernelspec": {
   "display_name": "Python 3 (ipykernel)",
   "language": "python",
   "name": "python3"
  },
  "language_info": {
   "codemirror_mode": {
    "name": "ipython",
    "version": 3
   },
   "file_extension": ".py",
   "mimetype": "text/x-python",
   "name": "python",
   "nbconvert_exporter": "python",
   "pygments_lexer": "ipython3",
   "version": "3.8.10"
  }
 },
 "nbformat": 4,
 "nbformat_minor": 5
}
